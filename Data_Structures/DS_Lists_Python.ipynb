{
 "cells": [
  {
   "cell_type": "markdown",
   "id": "0f6f2bdf",
   "metadata": {},
   "source": [
    "## <p style='text-align:center'> DATA STRUCTURES IN PYTHON </p> \n",
    "\n",
    "### [LIST] - Mutable Data Structures in Python\n",
    "\n",
    "In this notebook I have tried to cover inbuilt methods that are provided by Python to work with \"*Lists*\". \n",
    "\n",
    "I will also explore how we can use lists as *__Stacks__* and *__Queues__*\n",
    "\n",
    "And the most powerful in my opinion - the Mighty **List Comprehensions!**\n",
    "\n",
    "\n",
    "#### *List object related methods in Python - [source](https://docs.python.org/3/tutorial/datastructures.html)*\n",
    "     \n",
    "   * *count()*  \n",
    "   * *append()* \n",
    "   * *extend()* \n",
    "   * *insert()* \n",
    "   * *remove()*\n",
    "   * *pop()*\n",
    "   * *index()*\n",
    "   * *copy()*\n",
    "   * *sort()*\n",
    "   * *reverse()*\n",
    "   * *clear()*"
   ]
  },
  {
   "cell_type": "markdown",
   "id": "2d4b4fa3",
   "metadata": {},
   "source": [
    "### count(*x*)  -  *number of items in a list* "
   ]
  },
  {
   "cell_type": "code",
   "execution_count": 67,
   "id": "e72b9987",
   "metadata": {},
   "outputs": [
    {
     "data": {
      "text/plain": [
       "1"
      ]
     },
     "execution_count": 67,
     "metadata": {},
     "output_type": "execute_result"
    }
   ],
   "source": [
    "cnt_list = [\"lets\", \"count\", 'this', 'string']\n",
    "cnt_list.count('lets')"
   ]
  },
  {
   "cell_type": "markdown",
   "id": "2fcc74ba",
   "metadata": {},
   "source": [
    "###  append(*x*) - *adds an item to the end* "
   ]
  },
  {
   "cell_type": "code",
   "execution_count": 68,
   "id": "41422031",
   "metadata": {},
   "outputs": [
    {
     "data": {
      "text/plain": [
       "['lets', 'count', 'this', 'string', '!']"
      ]
     },
     "execution_count": 68,
     "metadata": {},
     "output_type": "execute_result"
    }
   ],
   "source": [
    "cnt_list.append('!')\n",
    "cnt_list"
   ]
  },
  {
   "cell_type": "markdown",
   "id": "3b30cc5f",
   "metadata": {},
   "source": [
    "### extend(*iterable*) - *extends the list by adding another iterable*"
   ]
  },
  {
   "cell_type": "code",
   "execution_count": 69,
   "id": "861f0677",
   "metadata": {},
   "outputs": [
    {
     "data": {
      "text/plain": [
       "['lets', 'count', 'this', 'string', '!', 'extended', 'parts']"
      ]
     },
     "execution_count": 69,
     "metadata": {},
     "output_type": "execute_result"
    }
   ],
   "source": [
    "list_ext = ['extended', 'parts']\n",
    "cnt_list.extend(list_ext) \n",
    "cnt_list"
   ]
  },
  {
   "cell_type": "markdown",
   "id": "30ca93eb",
   "metadata": {},
   "source": [
    "### insert(*i,x*) - *inserts and item at a given postion*"
   ]
  },
  {
   "cell_type": "code",
   "execution_count": 70,
   "id": "038ca0e6",
   "metadata": {},
   "outputs": [
    {
     "data": {
      "text/plain": [
       "['hey', 'lets', 'count', 'this', 'string', '!', 'extended', 'parts']"
      ]
     },
     "execution_count": 70,
     "metadata": {},
     "output_type": "execute_result"
    }
   ],
   "source": [
    "cnt_list.insert(0,'hey')\n",
    "#cnt_list(len(cnt_list),'hey') - this will insert 'hey' at the end just like append()\n",
    "cnt_list"
   ]
  },
  {
   "cell_type": "markdown",
   "id": "726cd6f3",
   "metadata": {},
   "source": [
    "### remove(*x*) - *removes an item by matching the value*"
   ]
  },
  {
   "cell_type": "code",
   "execution_count": 71,
   "id": "9b937b20",
   "metadata": {},
   "outputs": [
    {
     "data": {
      "text/plain": [
       "['hey', 'lets', 'count', 'this', '!', 'extended', 'parts']"
      ]
     },
     "execution_count": 71,
     "metadata": {},
     "output_type": "execute_result"
    }
   ],
   "source": [
    "cnt_list.remove('string')\n",
    "cnt_list"
   ]
  },
  {
   "cell_type": "markdown",
   "id": "afb5e7a7",
   "metadata": {},
   "source": [
    "### pop(*[i]*) - *pops out the last element just like a stack*"
   ]
  },
  {
   "cell_type": "code",
   "execution_count": 72,
   "id": "13722f03",
   "metadata": {},
   "outputs": [
    {
     "data": {
      "text/plain": [
       "['hey', 'lets', 'count', 'this', '!', 'extended']"
      ]
     },
     "execution_count": 72,
     "metadata": {},
     "output_type": "execute_result"
    }
   ],
   "source": [
    "cnt_list.pop()\n",
    "cnt_list"
   ]
  },
  {
   "cell_type": "markdown",
   "id": "25811078",
   "metadata": {},
   "source": [
    "### index(*x[, start[,end]]*) - *returns a zero-based index of the first item whose value is equal to x* "
   ]
  },
  {
   "cell_type": "code",
   "execution_count": 73,
   "id": "7d7252b1",
   "metadata": {},
   "outputs": [
    {
     "data": {
      "text/plain": [
       "3"
      ]
     },
     "execution_count": 73,
     "metadata": {},
     "output_type": "execute_result"
    }
   ],
   "source": [
    "cnt_list.index('this', 3) \n",
    "#cnt_list.index('extended') - will produce the index of the item 'extended'"
   ]
  },
  {
   "cell_type": "markdown",
   "id": "0248459e",
   "metadata": {},
   "source": [
    "### copy() - *returns a shallow/new copy. original list remains the same* "
   ]
  },
  {
   "cell_type": "code",
   "execution_count": 74,
   "id": "014f9045",
   "metadata": {},
   "outputs": [
    {
     "data": {
      "text/plain": [
       "['hey', 'lets', 'count', 'this', '!', 'extended']"
      ]
     },
     "execution_count": 74,
     "metadata": {},
     "output_type": "execute_result"
    }
   ],
   "source": [
    "cpy_list = cnt_list.copy() # equivalent to cpy_list = cnt_list[:] -> this is copying using slicing\n",
    "cpy_list\n",
    "\n",
    "#we can also copy a list using the '=' operator but both copied to and copied from lists are modified when one is tampered with\n",
    "#>>>cpy_list = cnt_list\n",
    "#>>>cpy_list -> ['hey', 'lets', 'count', 'this', '!', 'extended']\n",
    "#>>>cnt_list -> ['hey', 'lets', 'count', 'this', '!', 'extended']\n",
    "#>>>cpy_list.append('zero') -> ['hey', 'lets', 'count', 'this', '!', 'extended','zero']\n",
    "#>>>cnt_list -> ['hey', 'lets', 'count', 'this', '!', 'extended', 'zero']"
   ]
  },
  {
   "cell_type": "markdown",
   "id": "7041d3ad",
   "metadata": {},
   "source": [
    "### sort(* *, key-None,reverse=False*) - *returns an inplace sorted list*"
   ]
  },
  {
   "cell_type": "code",
   "execution_count": 75,
   "id": "bb682660",
   "metadata": {},
   "outputs": [
    {
     "data": {
      "text/plain": [
       "['!', 'count', 'extended', 'hey', 'lets', 'this']"
      ]
     },
     "execution_count": 75,
     "metadata": {},
     "output_type": "execute_result"
    }
   ],
   "source": [
    "cnt_list.sort()\n",
    "cnt_list\n",
    "\n",
    "# the key param and reverse param -> key takes in a function as a parameter\n",
    "#                                 -> reverse param is boolean and True = Descend sort & False = Ascend Sort. False is default\n",
    "# Run this if not understanding   -> cnt_list.sort(key = len, reverse = True)\n",
    "\n",
    "#important thing to note sort() vs sorted()\n",
    "#-> sort() returns the same list by rearranging it inplace where as sorted() returns a new iterable leaving the original as it is\n",
    "#-> sort() is limited to lists whereas sorted() works on all the iterables"
   ]
  },
  {
   "cell_type": "markdown",
   "id": "798986e9",
   "metadata": {},
   "source": [
    "### reverse() - *reverses the elements of the list in place*"
   ]
  },
  {
   "cell_type": "code",
   "execution_count": 76,
   "id": "37563688",
   "metadata": {},
   "outputs": [
    {
     "data": {
      "text/plain": [
       "['this', 'lets', 'hey', 'extended', 'count', '!']"
      ]
     },
     "execution_count": 76,
     "metadata": {},
     "output_type": "execute_result"
    }
   ],
   "source": [
    "cnt_list.reverse()\n",
    "cnt_list"
   ]
  },
  {
   "cell_type": "markdown",
   "id": "c09f472b",
   "metadata": {},
   "source": [
    "### clear() - *removes all the elements of the list*"
   ]
  },
  {
   "cell_type": "code",
   "execution_count": 77,
   "id": "c2250038",
   "metadata": {},
   "outputs": [
    {
     "data": {
      "text/plain": [
       "[]"
      ]
     },
     "execution_count": 77,
     "metadata": {},
     "output_type": "execute_result"
    }
   ],
   "source": [
    "cpy_list.clear()\n",
    "cpy_list\n",
    "\n",
    "#cpy_list.clear() is equivalent to del cpy_list[:]"
   ]
  },
  {
   "cell_type": "markdown",
   "id": "b0e05ff4",
   "metadata": {},
   "source": [
    "## <p style=\"text-align:center\"> USING LISTS AS STACKS </p>"
   ]
  },
  {
   "cell_type": "markdown",
   "id": "2b71ff8c",
   "metadata": {},
   "source": [
    "Using the lists as stacks(LI-FO) is very simple. We simply consider the list as a stack and the last inserted element is popped out first. "
   ]
  },
  {
   "cell_type": "code",
   "execution_count": 83,
   "id": "5d0d9718",
   "metadata": {},
   "outputs": [
    {
     "data": {
      "text/plain": [
       "['this', 'lets', 'hey', 'extended', 'count', '!']"
      ]
     },
     "execution_count": 83,
     "metadata": {},
     "output_type": "execute_result"
    }
   ],
   "source": [
    "# cnt_list.append('pop me') #-> this adds 'pop me' as the last element to the list\n",
    "cnt_list.pop() #-> 'pop me' is popped\n",
    "cnt_list"
   ]
  },
  {
   "cell_type": "markdown",
   "id": "324a199c",
   "metadata": {},
   "source": [
    "## <p style=\"text-align:center\"> USING LISTS AS QUEUES </p>"
   ]
  },
  {
   "cell_type": "markdown",
   "id": "2f571ea4",
   "metadata": {},
   "source": [
    "Using 'deque' to make a list act like a normal list but on steroids. \n",
    "\n",
    "Deque allows us to - *popleft* , *pop*, *appendleft*, *append*, *extendleft*, *extend*, *reverse*, *rotate* among other operations. \n",
    "\n",
    "Deque objects are a courtsey of the *'Collection Module'* which provides various container datatypes.  \n",
    "      "
   ]
  },
  {
   "cell_type": "code",
   "execution_count": 110,
   "id": "99654b74",
   "metadata": {},
   "outputs": [
    {
     "data": {
      "text/plain": [
       "deque(['4', '3', '2', '1', '5', '6', 'Seven'])"
      ]
     },
     "execution_count": 110,
     "metadata": {},
     "output_type": "execute_result"
    }
   ],
   "source": [
    "from collections import deque\n",
    "q = deque(['1','2','3'])\n",
    "q.append('4') #->['1','2','3','4']\n",
    "q.popleft() #-> ['2','3','4']\n",
    "q.appendleft('1') #->['1','2','3','4']\n",
    "q.rotate(-2) #->['3','4','1','2']\n",
    "q.rotate(2) #->['1','2','3','4']\n",
    "new_q = ['5','6','Seven']\n",
    "q.extendleft(new_q) #->['Seven','6','5','1','2','3','4']\n",
    "q.reverse() #->['4','3','2','1','5','6','Seven']\n",
    "q"
   ]
  },
  {
   "cell_type": "markdown",
   "id": "897275e3",
   "metadata": {},
   "source": [
    "## <p style=\"text-align:center\"> LIST COMPREHENSIONS </p>"
   ]
  },
  {
   "cell_type": "markdown",
   "id": "64f9b428",
   "metadata": {},
   "source": [
    "I wasn't very familiar with list comprehensions until I started writing this notebook. I knew something like that existed but i didn't knew they are so subtle and powerful. If mastered they can be a game changer in my opinion. \n",
    "\n",
    "**So what are list comprehensions?**\n",
    "A concise way to create lists. Remember when you have to write for loop for appending or popping or doing something else crazy with a list. Well sometimes  you will need those things but not most of the times. Hail! the might List Comprehensions. \n",
    "\n",
    "I saw these two examples on Python Documentation website and they are amazing way  to show the stark difference between creating a normal list VS a list comprehension. "
   ]
  },
  {
   "cell_type": "code",
   "execution_count": 116,
   "id": "f020a499",
   "metadata": {},
   "outputs": [
    {
     "data": {
      "text/plain": [
       "[0, 1, 4, 9, 16, 25, 36, 49, 64, 81]"
      ]
     },
     "execution_count": 116,
     "metadata": {},
     "output_type": "execute_result"
    }
   ],
   "source": [
    "square= []\n",
    "for x in range(10):\n",
    "    square.append(x**2)\n",
    "square"
   ]
  },
  {
   "cell_type": "code",
   "execution_count": 117,
   "id": "72b8d278",
   "metadata": {},
   "outputs": [
    {
     "data": {
      "text/plain": [
       "[0, 1, 4, 9, 16, 25, 36, 49, 64, 81]"
      ]
     },
     "execution_count": 117,
     "metadata": {},
     "output_type": "execute_result"
    }
   ],
   "source": [
    "square = [x**2 for x in range(10)]\n",
    "square"
   ]
  },
  {
   "cell_type": "markdown",
   "id": "aee28aec",
   "metadata": {},
   "source": [
    "Both the examples above do the same exact thing but LC is so much cleaner and faster. I mean I feel like a caveman if I have to write code in the first way ever again :')"
   ]
  }
 ],
 "metadata": {
  "kernelspec": {
   "display_name": "Python 3 (ipykernel)",
   "language": "python",
   "name": "python3"
  },
  "language_info": {
   "codemirror_mode": {
    "name": "ipython",
    "version": 3
   },
   "file_extension": ".py",
   "mimetype": "text/x-python",
   "name": "python",
   "nbconvert_exporter": "python",
   "pygments_lexer": "ipython3",
   "version": "3.10.6"
  }
 },
 "nbformat": 4,
 "nbformat_minor": 5
}
