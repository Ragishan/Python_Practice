{
 "cells": [
  {
   "cell_type": "markdown",
   "id": "0f6f2bdf",
   "metadata": {},
   "source": [
    "## <p style='text-align:center'> DATA STRUCTURES IN PYTHON </p> \n",
    "\n",
    "### [LIST] - Mutable Data Structures in Python\n",
    "\n",
    "In this notebook I have tried to cover inbuilt methods that are provided by Python to work with \"*Lists*\". \n",
    "\n",
    "I will also explore how we can use lists as *__Stacks__* and *__Queues__*\n",
    "\n",
    "\n",
    "#### *List object related methods in Python - [source](https://docs.python.org/3/tutorial/datastructures.html)*\n",
    "     \n",
    "   * *count()*  \n",
    "   * *append()* \n",
    "   * *extend()* \n",
    "   * *insert()* \n",
    "   * *remove()*\n",
    "   * *pop()*\n",
    "   * *index()*\n",
    "   * *copy()*\n",
    "   * *sort()*\n",
    "   * *reverse()*\n",
    "   * *clear()*"
   ]
  },
  {
   "cell_type": "markdown",
   "id": "2d4b4fa3",
   "metadata": {},
   "source": [
    "### count(*x*)  -  *number of items in a list* "
   ]
  },
  {
   "cell_type": "code",
   "execution_count": 67,
   "id": "e72b9987",
   "metadata": {},
   "outputs": [
    {
     "data": {
      "text/plain": [
       "1"
      ]
     },
     "execution_count": 67,
     "metadata": {},
     "output_type": "execute_result"
    }
   ],
   "source": [
    "cnt_list = [\"lets\", \"count\", 'this', 'string']\n",
    "cnt_list.count('lets')"
   ]
  },
  {
   "cell_type": "markdown",
   "id": "2fcc74ba",
   "metadata": {},
   "source": [
    "###  append(*x*) - *adds an item to the end* "
   ]
  },
  {
   "cell_type": "code",
   "execution_count": 68,
   "id": "41422031",
   "metadata": {},
   "outputs": [
    {
     "data": {
      "text/plain": [
       "['lets', 'count', 'this', 'string', '!']"
      ]
     },
     "execution_count": 68,
     "metadata": {},
     "output_type": "execute_result"
    }
   ],
   "source": [
    "cnt_list.append('!')\n",
    "cnt_list"
   ]
  },
  {
   "cell_type": "markdown",
   "id": "3b30cc5f",
   "metadata": {},
   "source": [
    "### extend(*iterable*) - *extends the list by adding another iterable*"
   ]
  },
  {
   "cell_type": "code",
   "execution_count": 69,
   "id": "861f0677",
   "metadata": {},
   "outputs": [
    {
     "data": {
      "text/plain": [
       "['lets', 'count', 'this', 'string', '!', 'extended', 'parts']"
      ]
     },
     "execution_count": 69,
     "metadata": {},
     "output_type": "execute_result"
    }
   ],
   "source": [
    "list_ext = ['extended', 'parts']\n",
    "cnt_list.extend(list_ext) \n",
    "cnt_list"
   ]
  },
  {
   "cell_type": "markdown",
   "id": "30ca93eb",
   "metadata": {},
   "source": [
    "### insert(*i,x*) - *inserts and item at a given postion*"
   ]
  },
  {
   "cell_type": "code",
   "execution_count": 70,
   "id": "038ca0e6",
   "metadata": {},
   "outputs": [
    {
     "data": {
      "text/plain": [
       "['hey', 'lets', 'count', 'this', 'string', '!', 'extended', 'parts']"
      ]
     },
     "execution_count": 70,
     "metadata": {},
     "output_type": "execute_result"
    }
   ],
   "source": [
    "cnt_list.insert(0,'hey')\n",
    "#cnt_list(len(cnt_list),'hey') - this will insert 'hey' at the end just like append()\n",
    "cnt_list"
   ]
  },
  {
   "cell_type": "markdown",
   "id": "726cd6f3",
   "metadata": {},
   "source": [
    "### remove(*x*) - *removes an item by matching the value*"
   ]
  },
  {
   "cell_type": "code",
   "execution_count": 71,
   "id": "9b937b20",
   "metadata": {},
   "outputs": [
    {
     "data": {
      "text/plain": [
       "['hey', 'lets', 'count', 'this', '!', 'extended', 'parts']"
      ]
     },
     "execution_count": 71,
     "metadata": {},
     "output_type": "execute_result"
    }
   ],
   "source": [
    "cnt_list.remove('string')\n",
    "cnt_list"
   ]
  },
  {
   "cell_type": "markdown",
   "id": "afb5e7a7",
   "metadata": {},
   "source": [
    "### pop(*[i]*) - *pops out the last element just like a stack*"
   ]
  },
  {
   "cell_type": "code",
   "execution_count": 72,
   "id": "13722f03",
   "metadata": {},
   "outputs": [
    {
     "data": {
      "text/plain": [
       "['hey', 'lets', 'count', 'this', '!', 'extended']"
      ]
     },
     "execution_count": 72,
     "metadata": {},
     "output_type": "execute_result"
    }
   ],
   "source": [
    "cnt_list.pop()\n",
    "cnt_list"
   ]
  },
  {
   "cell_type": "markdown",
   "id": "25811078",
   "metadata": {},
   "source": [
    "### index(*x[, start[,end]]*) - *returns a zero-based index of the first item whose value is equal to x* "
   ]
  },
  {
   "cell_type": "code",
   "execution_count": 73,
   "id": "7d7252b1",
   "metadata": {},
   "outputs": [
    {
     "data": {
      "text/plain": [
       "3"
      ]
     },
     "execution_count": 73,
     "metadata": {},
     "output_type": "execute_result"
    }
   ],
   "source": [
    "cnt_list.index('this', 3) \n",
    "#cnt_list.index('extended') - will produce the index of the item 'extended'"
   ]
  },
  {
   "cell_type": "markdown",
   "id": "0248459e",
   "metadata": {},
   "source": [
    "### copy() - *returns a shallow/new copy. original list remains the same* "
   ]
  },
  {
   "cell_type": "code",
   "execution_count": 74,
   "id": "014f9045",
   "metadata": {},
   "outputs": [
    {
     "data": {
      "text/plain": [
       "['hey', 'lets', 'count', 'this', '!', 'extended']"
      ]
     },
     "execution_count": 74,
     "metadata": {},
     "output_type": "execute_result"
    }
   ],
   "source": [
    "cpy_list = cnt_list.copy() # equivalent to cpy_list = cnt_list[:] -> this is copying using slicing\n",
    "cpy_list\n",
    "\n",
    "#we can also copy a list using the '=' operator but both copied to and copied from lists are modified when one is tampered with\n",
    "#>>>cpy_list = cnt_list\n",
    "#>>>cpy_list -> ['hey', 'lets', 'count', 'this', '!', 'extended']\n",
    "#>>>cnt_list -> ['hey', 'lets', 'count', 'this', '!', 'extended']\n",
    "#>>>cpy_list.append('zero') -> ['hey', 'lets', 'count', 'this', '!', 'extended','zero']\n",
    "#>>>cnt_list -> ['hey', 'lets', 'count', 'this', '!', 'extended', 'zero']"
   ]
  },
  {
   "cell_type": "markdown",
   "id": "7041d3ad",
   "metadata": {},
   "source": [
    "### sort(* *, key-None,reverse=False*) - *returns an inplace sorted list*"
   ]
  },
  {
   "cell_type": "code",
   "execution_count": 75,
   "id": "bb682660",
   "metadata": {},
   "outputs": [
    {
     "data": {
      "text/plain": [
       "['!', 'count', 'extended', 'hey', 'lets', 'this']"
      ]
     },
     "execution_count": 75,
     "metadata": {},
     "output_type": "execute_result"
    }
   ],
   "source": [
    "cnt_list.sort()\n",
    "cnt_list\n",
    "\n",
    "# the key param and reverse param -> key takes in a function as a parameter\n",
    "#                                 -> reverse param is boolean and True = Descend sort & False = Ascend Sort. False is default\n",
    "# Run this if not understanding   -> cnt_list.sort(key = len, reverse = True)\n",
    "\n",
    "#important thing to note sort() vs sorted()\n",
    "#-> sort() returns the same list by rearranging it inplace where as sorted() returns a new iterable leaving the original as it is\n",
    "#-> sort() is limited to lists whereas sorted() works on all the iterables"
   ]
  },
  {
   "cell_type": "markdown",
   "id": "798986e9",
   "metadata": {},
   "source": [
    "### reverse() - *reverses the elements of the list in place*"
   ]
  },
  {
   "cell_type": "code",
   "execution_count": 76,
   "id": "37563688",
   "metadata": {},
   "outputs": [
    {
     "data": {
      "text/plain": [
       "['this', 'lets', 'hey', 'extended', 'count', '!']"
      ]
     },
     "execution_count": 76,
     "metadata": {},
     "output_type": "execute_result"
    }
   ],
   "source": [
    "cnt_list.reverse()\n",
    "cnt_list"
   ]
  },
  {
   "cell_type": "markdown",
   "id": "c09f472b",
   "metadata": {},
   "source": [
    "### clear() - *removes all the elements of the list*"
   ]
  },
  {
   "cell_type": "code",
   "execution_count": 77,
   "id": "c2250038",
   "metadata": {},
   "outputs": [
    {
     "data": {
      "text/plain": [
       "[]"
      ]
     },
     "execution_count": 77,
     "metadata": {},
     "output_type": "execute_result"
    }
   ],
   "source": [
    "cpy_list.clear()\n",
    "cpy_list\n",
    "\n",
    "#cpy_list.clear() is equivalent to del cpy_list[:]"
   ]
  },
  {
   "cell_type": "markdown",
   "id": "b0e05ff4",
   "metadata": {},
   "source": [
    "## <p style=\"text-align:center\"> USING LISTS AS STACKS </p>"
   ]
  },
  {
   "cell_type": "code",
   "execution_count": null,
   "id": "f4e115b7",
   "metadata": {},
   "outputs": [],
   "source": []
  }
 ],
 "metadata": {
  "kernelspec": {
   "display_name": "Python 3 (ipykernel)",
   "language": "python",
   "name": "python3"
  },
  "language_info": {
   "codemirror_mode": {
    "name": "ipython",
    "version": 3
   },
   "file_extension": ".py",
   "mimetype": "text/x-python",
   "name": "python",
   "nbconvert_exporter": "python",
   "pygments_lexer": "ipython3",
   "version": "3.10.6"
  }
 },
 "nbformat": 4,
 "nbformat_minor": 5
}
